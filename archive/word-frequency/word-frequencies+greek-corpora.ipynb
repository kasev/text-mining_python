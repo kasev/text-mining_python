{
 "cells": [
  {
   "cell_type": "markdown",
   "metadata": {},
   "source": [
    "# Word frequencies"
   ]
  },
  {
   "cell_type": "raw",
   "metadata": {
    "collapsed": true
   },
   "source": [
    "# This code is based upon a tutorial from here: https:/</de.dariah.eu/tatom/"
   ]
  },
  {
   "cell_type": "code",
   "execution_count": 1,
   "metadata": {
    "collapsed": true
   },
   "outputs": [],
   "source": [
    "import numpy as np\n",
    "from sklearn.feature_extraction.text import CountVectorizer \n",
    "#sklearn is a package for machine learning\n",
    "#CountVectorizer is a great tool for word frequencies"
   ]
  },
  {
   "cell_type": "raw",
   "metadata": {},
   "source": [
    "#data"
   ]
  },
  {
   "cell_type": "code",
   "execution_count": 2,
   "metadata": {
    "collapsed": true
   },
   "outputs": [],
   "source": [
    "filenames = ['/Users/vojtech/Disk Google/python/word-frequency/data/austen-brontë/Austen_Emma.txt',\n",
    "             '/Users/vojtech/Disk Google/python/word-frequency/data/austen-brontë/Austen_Pride.txt',\n",
    "             '/Users/vojtech/Disk Google/python/word-frequency/data/austen-brontë/Austen_Sense.txt',\n",
    "             '/Users/vojtech/Disk Google/python/word-frequency/data/austen-brontë/CBronte_Jane.txt',\n",
    "             '/Users/vojtech/Disk Google/python/word-frequency/data/austen-brontë/CBronte_Professor.txt',\n",
    "             '/Users/vojtech/Disk Google/python/word-frequency/data/austen-brontë/CBronte_Villette.txt']"
   ]
  },
  {
   "cell_type": "raw",
   "metadata": {},
   "source": [
    "# key variables"
   ]
  },
  {
   "cell_type": "code",
   "execution_count": 3,
   "metadata": {
    "collapsed": true
   },
   "outputs": [],
   "source": [
    "#this comment line only"
   ]
  },
  {
   "cell_type": "code",
   "execution_count": 4,
   "metadata": {
    "collapsed": true
   },
   "outputs": [],
   "source": [
    "vectorizer = CountVectorizer(input='filename')\n",
    "dtm = vectorizer.fit_transform(filenames)\n",
    "vocab = vectorizer.get_feature_names()"
   ]
  },
  {
   "cell_type": "raw",
   "metadata": {},
   "source": [
    "# modifying variable type"
   ]
  },
  {
   "cell_type": "code",
   "execution_count": 5,
   "metadata": {
    "collapsed": true
   },
   "outputs": [],
   "source": [
    "dtm = dtm.toarray()\n",
    "vocab = np.array(vocab)"
   ]
  },
  {
   "cell_type": "raw",
   "metadata": {},
   "source": [
    "#simple tests (uncomment to see any)\n",
    "## type(dtm)\n",
    "## dtm[0, vocab == 'house'] # 0 = datafile of \"Emma\"\n",
    "## filenames\n",
    "\n",
    "# frequecy of the word 'house' accross the datafiles"
   ]
  },
  {
   "cell_type": "code",
   "execution_count": 6,
   "metadata": {},
   "outputs": [
    {
     "data": {
      "text/plain": [
       "array([[ 95],\n",
       "       [107],\n",
       "       [161],\n",
       "       [182],\n",
       "       [ 93]], dtype=int64)"
      ]
     },
     "execution_count": 6,
     "metadata": {},
     "output_type": "execute_result"
    }
   ],
   "source": [
    "dtm[0:5, vocab =='house']"
   ]
  },
  {
   "cell_type": "code",
   "execution_count": 7,
   "metadata": {
    "collapsed": true
   },
   "outputs": [],
   "source": [
    "n, _ = dtm.shape"
   ]
  },
  {
   "cell_type": "raw",
   "metadata": {},
   "source": [
    "# eucledian distances to explore similarity in vocabulary\n",
    "# and a new variable for distance"
   ]
  },
  {
   "cell_type": "code",
   "execution_count": 8,
   "metadata": {},
   "outputs": [
    {
     "data": {
      "text/plain": [
       "array([[    0. ,  3856.3,  4182.8,  5119.7,  7113.3,  5280.2],\n",
       "       [ 3856.3,     0. ,  1922.6,  6313.1,  4126.2,  6381.2],\n",
       "       [ 4182.8,  1922.6,     0. ,  6657.4,  4045.3,  6650.3],\n",
       "       [ 5119.7,  6313.1,  6657.4,     0. ,  8363.8,  2591.5],\n",
       "       [ 7113.3,  4126.2,  4045.3,  8363.8,     0. ,  8484.1],\n",
       "       [ 5280.2,  6381.2,  6650.3,  2591.5,  8484.1,     0. ]])"
      ]
     },
     "execution_count": 8,
     "metadata": {},
     "output_type": "execute_result"
    }
   ],
   "source": [
    "from sklearn.metrics.pairwise import euclidean_distances\n",
    "dist = euclidean_distances(dtm)\n",
    "np.round(dist, 1) # to round the values to 1 decimal "
   ]
  },
  {
   "cell_type": "raw",
   "metadata": {},
   "source": [
    "# now you can view and compare distances\n",
    "# (similarities in words and their frequencies) between any two texts"
   ]
  },
  {
   "cell_type": "code",
   "execution_count": 9,
   "metadata": {},
   "outputs": [
    {
     "data": {
      "text/plain": [
       "6313.0833987838305"
      ]
     },
     "execution_count": 9,
     "metadata": {},
     "output_type": "execute_result"
    }
   ],
   "source": [
    "dist[1,3]"
   ]
  },
  {
   "cell_type": "raw",
   "metadata": {},
   "source": [
    "# cosine similarity might be even better than simple distance"
   ]
  },
  {
   "cell_type": "code",
   "execution_count": 10,
   "metadata": {},
   "outputs": [
    {
     "data": {
      "text/plain": [
       "array([[-0.  ,  0.02,  0.03,  0.05,  0.06,  0.05],\n",
       "       [ 0.02, -0.  ,  0.02,  0.05,  0.04,  0.04],\n",
       "       [ 0.03,  0.02, -0.  ,  0.06,  0.05,  0.05],\n",
       "       [ 0.05,  0.05,  0.06,  0.  ,  0.02,  0.01],\n",
       "       [ 0.06,  0.04,  0.05,  0.02, -0.  ,  0.01],\n",
       "       [ 0.05,  0.04,  0.05,  0.01,  0.01,  0.  ]])"
      ]
     },
     "execution_count": 10,
     "metadata": {},
     "output_type": "execute_result"
    }
   ],
   "source": [
    "from sklearn.metrics.pairwise import cosine_similarity\n",
    "dist = 1 - cosine_similarity(dtm)\n",
    "np.round(dist, 2)"
   ]
  },
  {
   "cell_type": "raw",
   "metadata": {},
   "source": [
    "# with that you can e.g. check which distance is bigger etc."
   ]
  },
  {
   "cell_type": "code",
   "execution_count": 11,
   "metadata": {},
   "outputs": [
    {
     "data": {
      "text/plain": [
       "True"
      ]
     },
     "execution_count": 11,
     "metadata": {},
     "output_type": "execute_result"
    }
   ],
   "source": [
    "dist[1,3] > dist[3,5]"
   ]
  },
  {
   "cell_type": "raw",
   "metadata": {},
   "source": [
    "#visualization as a multidimensional scaling"
   ]
  },
  {
   "cell_type": "code",
   "execution_count": 12,
   "metadata": {
    "collapsed": true
   },
   "outputs": [],
   "source": [
    "import os \n",
    "import matplotlib.pyplot as plt\n",
    "from sklearn.manifold import MDS\n",
    "mds = MDS(n_components=2, dissimilarity=\"precomputed\", random_state=1)\n",
    "pos = mds.fit_transform(dist)\n",
    "xs, ys = pos[:, 0], pos[:, 1]"
   ]
  },
  {
   "cell_type": "code",
   "execution_count": 13,
   "metadata": {},
   "outputs": [
    {
     "data": {
      "text/plain": [
       "array([[ -2.22044605e-16,   1.97991646e-02,   2.54477700e-02,\n",
       "          5.33033683e-02,   5.85056420e-02,   5.47577694e-02],\n",
       "       [  1.97991646e-02,  -4.44089210e-16,   1.65970214e-02,\n",
       "          4.70262343e-02,   4.31295508e-02,   4.32719403e-02],\n",
       "       [  2.54477700e-02,   1.65970214e-02,  -4.44089210e-16,\n",
       "          5.60580626e-02,   4.68418996e-02,   4.90020814e-02],\n",
       "       [  5.33033683e-02,   4.70262343e-02,   5.60580626e-02,\n",
       "          0.00000000e+00,   1.59794084e-02,   1.36726702e-02],\n",
       "       [  5.85056420e-02,   4.31295508e-02,   4.68418996e-02,\n",
       "          1.59794084e-02,  -6.66133815e-16,   1.09404259e-02],\n",
       "       [  5.47577694e-02,   4.32719403e-02,   4.90020814e-02,\n",
       "          1.36726702e-02,   1.09404259e-02,   4.44089210e-16]])"
      ]
     },
     "execution_count": 13,
     "metadata": {},
     "output_type": "execute_result"
    }
   ],
   "source": [
    "dist"
   ]
  },
  {
   "cell_type": "raw",
   "metadata": {},
   "source": [
    "# renaming"
   ]
  },
  {
   "cell_type": "code",
   "execution_count": 14,
   "metadata": {
    "collapsed": true
   },
   "outputs": [],
   "source": [
    "names = [os.path.basename(fn).replace('.txt', '') for fn in filenames]"
   ]
  },
  {
   "cell_type": "raw",
   "metadata": {},
   "source": [
    "#appropriate color"
   ]
  },
  {
   "cell_type": "code",
   "execution_count": 15,
   "metadata": {
    "collapsed": true
   },
   "outputs": [],
   "source": [
    "for x, y, name in zip(xs, ys, names):\n",
    "    color = 'orange' if \"Austen\" in name else 'skyblue'\n",
    "    plt.scatter(x, y, c=color)\n",
    "    plt.text(x, y, name)"
   ]
  },
  {
   "cell_type": "code",
   "execution_count": 16,
   "metadata": {},
   "outputs": [
    {
     "data": {
      "image/png": "[encoded data removed]",
      "text/plain": [
       "<matplotlib.figure.Figure at 0x1144bc6d8>"
      ]
     },
     "metadata": {},
     "output_type": "display_data"
    }
   ],
   "source": [
    "plt.show()"
   ]
  },
  {
   "cell_type": "code",
   "execution_count": null,
   "metadata": {
    "collapsed": true
   },
   "outputs": [],
   "source": []
  }
 ],
 "metadata": {
  "kernelspec": {
   "display_name": "Python 3",
   "language": "python",
   "name": "python3"
  },
  "language_info": {
   "codemirror_mode": {
    "name": "ipython",
    "version": 3
   },
   "file_extension": ".py",
   "mimetype": "text/x-python",
   "name": "python",
   "nbconvert_exporter": "python",
   "pygments_lexer": "ipython3",
   "version": "3.6.1"
  }
 },
 "nbformat": 4,
 "nbformat_minor": 2
}
