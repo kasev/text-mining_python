{
 "cells": [
  {
   "cell_type": "code",
   "execution_count": 7,
   "metadata": {
    "collapsed": true
   },
   "outputs": [],
   "source": [
    "# IMPORTING CORPUS\n",
    "from cltk.corpus.utils.importer import CorpusImporter"
   ]
  },
  {
   "cell_type": "code",
   "execution_count": 37,
   "metadata": {},
   "outputs": [
    {
     "data": {
      "text/plain": [
       "['greek_software_tlgu',\n",
       " 'greek_text_perseus',\n",
       " 'phi7',\n",
       " 'tlg',\n",
       " 'greek_proper_names_cltk',\n",
       " 'greek_models_cltk',\n",
       " 'greek_treebank_perseus',\n",
       " 'greek_lexica_perseus',\n",
       " 'greek_training_set_sentence_cltk',\n",
       " 'greek_word2vec_cltk',\n",
       " 'greek_text_lacus_curtius',\n",
       " 'greek_text_first1kgreek']"
      ]
     },
     "execution_count": 37,
     "metadata": {},
     "output_type": "execute_result"
    }
   ],
   "source": [
    "# SEE CORPUS CONTENT\n",
    "# create variable\n",
    "my_greek_downloader = CorpusImporter('greek')\n",
    "# see what is on the list\n",
    "my_greek_downloader.list_corpora"
   ]
  },
  {
   "cell_type": "code",
   "execution_count": 38,
   "metadata": {
    "collapsed": true
   },
   "outputs": [],
   "source": [
    "# to start to work with the language\n",
    "my_greek_downloader.import_corpus('greek_models_cltk')"
   ]
  },
  {
   "cell_type": "code",
   "execution_count": 39,
   "metadata": {
    "collapsed": true
   },
   "outputs": [],
   "source": [
    "my_greek_downloader.import_corpus('greek_proper_names_cltk')"
   ]
  },
  {
   "cell_type": "code",
   "execution_count": 70,
   "metadata": {
    "collapsed": true
   },
   "outputs": [],
   "source": [
    "# importing perseus\n",
    "my_greek_downloader.import_corpus('greek_text_perseus')\n",
    "my_greek_downloader.import_corpus('greek_treebank_perseus')\n",
    "my_greek_downloader.import_corpus('greek_lexica_perseus')"
   ]
  },
  {
   "cell_type": "code",
   "execution_count": 41,
   "metadata": {
    "collapsed": true
   },
   "outputs": [],
   "source": [
    "# importing first1kgreek\n",
    "my_greek_downloader.import_corpus('greek_text_first1kgreek')"
   ]
  },
  {
   "cell_type": "code",
   "execution_count": 76,
   "metadata": {
    "collapsed": true
   },
   "outputs": [],
   "source": [
    "# importing TLGU\n",
    "my_greek_downloader.import_corpus('greek_software_tlgu')"
   ]
  },
  {
   "cell_type": "code",
   "execution_count": 80,
   "metadata": {
    "collapsed": true
   },
   "outputs": [],
   "source": [
    "my_greek_downloader.import_corpus('tlg', '~/cltk/corpora/TLG_E')"
   ]
  },
  {
   "cell_type": "code",
   "execution_count": null,
   "metadata": {
    "collapsed": true
   },
   "outputs": [],
   "source": [
    "# CONVERTING BETA CODE TO UNICODE\n",
    "# the files are typically in TEI XML format in betacode\n",
    "# we need to transform them into unicode\n",
    "from cltk.corpus.greek.beta_to_unicode import Replacer"
   ]
  },
  {
   "cell_type": "raw",
   "metadata": {},
   "source": [
    "# EXAMPLE\n",
    "# the string has to start with 'r' \n",
    "# and has to be enclosed by '\"\"\"' on both ends\n",
    "BETA_EXAMPLE = r\"\"\"O(/PWS OU)=N MH\\ TAU)TO\\ PA/QWMEN E)KEI/NOIS, E)PI\\ TH\\N DIA/GNWSIN AU)TW=N E)/RXESQAI DEI= PRW=TON. TINE\\S ME\\N OU)=N AU)TW=N EI)SIN A)KRIBEI=S, TINE\\S DE\\ OU)K A)KRIBEI=S O)/NTES METAPI/-PTOUSIN EI)S TOU\\S E)PI\\ SH/YEI: OU(/TW GA\\R KAI\\ LOU=SAI KAI\\ QRE/YAI KALW=S KAI\\ MH\\ LOU=SAI PA/LIN, O(/TE MH\\ O)RQW=S DUNHQEI/HMEN.\"\"\"\n",
    "r = Replacer()\n",
    "r.beta_code(BETA_EXAMPLE)"
   ]
  },
  {
   "cell_type": "raw",
   "metadata": {},
   "source": [
    "# ACCENTUATION\n",
    "# the following is probably not necessary for basic operation with ready corpora\n",
    "# in addition to installing 'greek-accentuation' library in terminal\n",
    "# you need import a sellection of its modules\n",
    "# to simplify characters:\n",
    "## from greek_accentuation.characters import base\n",
    "# to split words in syllables:\n",
    "## from greek_accentuation.characters import syllabify\n",
    "# main command is 'syllabify()'"
   ]
  },
  {
   "cell_type": "code",
   "execution_count": 23,
   "metadata": {
    "collapsed": true
   },
   "outputs": [],
   "source": [
    "# STOPWORDS FILTERING\n",
    "from nltk.tokenize.punkt import PunktLanguageVars\n",
    "from cltk.stop.greek.stops import STOPS_LIST"
   ]
  },
  {
   "cell_type": "raw",
   "metadata": {},
   "source": [
    "# STOPWORDS EXAMPLE\n",
    "sentence = 'Ἅρπαγος δὲ καταστρεψάμενος Ἰωνίην ἐποιέετο στρατηίην ἐπὶ Κᾶρας καὶ Καυνίους καὶ Λυκίους, ἅμα ἀγόμενος καὶ Ἴωνας καὶ Αἰολέας.'\n",
    "p = PunktLanguageVars()\n",
    "tokens = p.word_tokenize(sentence.lower())\n",
    "[w for w in tokens if not w in STOPS_LIST]"
   ]
  },
  {
   "cell_type": "code",
   "execution_count": 57,
   "metadata": {
    "collapsed": true
   },
   "outputs": [],
   "source": [
    "# USING TLGU SOFTWARE\n",
    "from cltk.corpus.greek.tlgu import TLGU\n"
   ]
  },
  {
   "cell_type": "code",
   "execution_count": 64,
   "metadata": {
    "collapsed": true
   },
   "outputs": [],
   "source": [
    "# CONVERTING TEI XML TO PLAINTEXT\n",
    "# based on BeautifulSoup library (pip install bs4):\n",
    "from cltk.corpus.greek.tei import onekgreek_tei_xml_to_text\n",
    "onekgreek_tei_xml_to_text()"
   ]
  },
  {
   "cell_type": "code",
   "execution_count": null,
   "metadata": {
    "collapsed": true
   },
   "outputs": [],
   "source": []
  },
  {
   "cell_type": "markdown",
   "metadata": {},
   "source": [
    "# Real work with real texts"
   ]
  },
  {
   "cell_type": "code",
   "execution_count": 3,
   "metadata": {
    "collapsed": true
   },
   "outputs": [],
   "source": [
    "# UPLOADING AND CLEANING\n",
    "from cltk.corpus.utils.formatter import tlg_plaintext_cleanup\n",
    "import os\n",
    "# Sozomenus\n",
    "sozomenus_file = os.path.expanduser('~/cltk_data/greek/text/greek_text_first1kgreek_plaintext/tlg2048.tlg001.1st1K-grc1.txt')\n",
    "with open(sozomenus_file) as f:\n",
    "    sozomenus_raw = f.read()\n",
    "# text_cleaned = cleaned text:\n",
    "sozomenus_cleaned = tlg_plaintext_cleanup(sozomenus_raw, rm_punctuation=True, rm_periods=True) [:]\n",
    "#  rm_periods=True returns no interpunction\n",
    "sozomenus_cleaned = sozomenus_cleaned.lower()"
   ]
  },
  {
   "cell_type": "code",
   "execution_count": 4,
   "metadata": {
    "collapsed": true
   },
   "outputs": [],
   "source": [
    "# UPLOADING AND CLEANING\n",
    "from cltk.corpus.utils.formatter import tlg_plaintext_cleanup\n",
    "import os\n",
    "# Socrates\n",
    "socrates_file = os.path.expanduser('~//cltk_data/greek/text/greek_text_first1kgreek_plaintext/tlg2057.tlg002.1st1K-grc1.txt')\n",
    "with open(socrates_file) as f:\n",
    "    socrates_raw = f.read()\n",
    "# text_cleaned = cleaned text:\n",
    "socrates_cleaned = tlg_plaintext_cleanup(socrates_raw, rm_punctuation=True, rm_periods=True) [:]\n",
    "#  rm_periods=True returns no interpunction\n",
    "socrates_cleaned = socrates_cleaned.lower()"
   ]
  },
  {
   "cell_type": "code",
   "execution_count": 5,
   "metadata": {
    "collapsed": true
   },
   "outputs": [],
   "source": [
    "# LEMMATIZATION\n",
    "# does not work so good as I would like\n",
    "from cltk.stem.lemma import LemmaReplacer\n",
    "lemmatizer = LemmaReplacer('greek')\n",
    "sozomenus_lemmatized = lemmatizer.lemmatize(sozomenus_cleaned, return_string=True)\n",
    "socrates_lemmatized = lemmatizer.lemmatize(socrates_cleaned, return_string=True)"
   ]
  },
  {
   "cell_type": "code",
   "execution_count": 6,
   "metadata": {},
   "outputs": [
    {
     "data": {
      "text/plain": [
       "681289"
      ]
     },
     "execution_count": 6,
     "metadata": {},
     "output_type": "execute_result"
    }
   ],
   "source": [
    "len(sozomenus_lemmatized)"
   ]
  },
  {
   "cell_type": "code",
   "execution_count": 7,
   "metadata": {},
   "outputs": [
    {
     "data": {
      "text/plain": [
       "617721"
      ]
     },
     "execution_count": 7,
     "metadata": {},
     "output_type": "execute_result"
    }
   ],
   "source": [
    "len(socrates_lemmatized)"
   ]
  },
  {
   "cell_type": "code",
   "execution_count": 8,
   "metadata": {
    "collapsed": true
   },
   "outputs": [],
   "source": [
    "# STOPWORDS FILTERING\n",
    "from nltk.tokenize.punkt import PunktLanguageVars\n",
    "from cltk.stop.greek.stops import STOPS_LIST\n",
    "p = PunktLanguageVars()\n",
    "\n",
    "soz_tokens = p.word_tokenize(sozomenus_lemmatized.lower())\n",
    "sozomenus_without_stopwords = [w for w in soz_tokens if not w in STOPS_LIST]\n",
    "sozomenus_str = \" \".join(sozomenus_without_stopwords)\n",
    "\n",
    "soc_tokens = p.word_tokenize(socrates_lemmatized.lower())\n",
    "socrates_without_stopwords = [w for w in soc_tokens if not w in STOPS_LIST]\n",
    "socrates_str = \" \".join(socrates_without_stopwords)\n"
   ]
  },
  {
   "cell_type": "code",
   "execution_count": 9,
   "metadata": {
    "collapsed": true
   },
   "outputs": [],
   "source": [
    "from cltk.utils.frequency import Frequency\n",
    "freq = Frequency()\n",
    "soz_freq_counter = freq.counter_from_str(sozomenus_str)\n",
    "soc_freq_counter = freq.counter_from_str(socrates_str)\n",
    "# now we have a counter collection\n",
    "# counters have some specific functions\n",
    "# like this one: freq_counter.most_common(30)\n",
    "# but in general they behave as dictionaries"
   ]
  },
  {
   "cell_type": "code",
   "execution_count": 10,
   "metadata": {},
   "outputs": [
    {
     "data": {
      "text/plain": [
       "8622"
      ]
     },
     "execution_count": 10,
     "metadata": {},
     "output_type": "execute_result"
    }
   ],
   "source": [
    "len(soz_freq_counter)"
   ]
  },
  {
   "cell_type": "code",
   "execution_count": 11,
   "metadata": {},
   "outputs": [
    {
     "data": {
      "text/plain": [
       "8418"
      ]
     },
     "execution_count": 11,
     "metadata": {},
     "output_type": "execute_result"
    }
   ],
   "source": [
    "len(soc_freq_counter)"
   ]
  },
  {
   "cell_type": "code",
   "execution_count": 13,
   "metadata": {},
   "outputs": [
    {
     "data": {
      "text/plain": [
       "[('αὐτός', 1543),\n",
       " ('εἰμί', 1064),\n",
       " ('οὐ', 796),\n",
       " ('γίγνομαι', 613),\n",
       " ('ἐκκλησία', 606),\n",
       " ('αὐτὸν', 499),\n",
       " ('ἐπίσκοπος', 488),\n",
       " ('ἔχω', 472),\n",
       " ('πᾶς', 449),\n",
       " ('τὰς', 411)]"
      ]
     },
     "execution_count": 13,
     "metadata": {},
     "output_type": "execute_result"
    }
   ],
   "source": [
    "soz_freq_counter.most_common(10)"
   ]
  },
  {
   "cell_type": "code",
   "execution_count": 14,
   "metadata": {},
   "outputs": [
    {
     "data": {
      "text/plain": [
       "[('αὐτός', 1352),\n",
       " ('εἰμί', 982),\n",
       " ('γίγνομαι', 802),\n",
       " ('οὐ', 724),\n",
       " ('ἐπίσκοπος', 584),\n",
       " ('οὖν', 478),\n",
       " ('πᾶς', 471),\n",
       " ('ἐκκλησία', 462),\n",
       " ('βασιλίς', 449),\n",
       " ('ποιέω', 414)]"
      ]
     },
     "execution_count": 14,
     "metadata": {},
     "output_type": "execute_result"
    }
   ],
   "source": [
    "soc_freq_counter.most_common(10)"
   ]
  },
  {
   "cell_type": "code",
   "execution_count": 18,
   "metadata": {},
   "outputs": [
    {
     "data": {
      "text/plain": [
       "'é λογος προς τον αυτοκρατορα θεοδοσιον και υποθεσις της εκκλησιαστικης ιστοριας φημί πάλλω αὐτοκράτωρ ἐπιμελής χρῆμα γίγνομαι φιλόκοσμος ἁλουργίς στέφανος παραπλήσιος δ̓ αὖ2 λογόω σπουδάζω μυθώδης τινὰ ποίησις σύγγραμμα θέλγω δύναμαι πόλεμος ἀσκέω βέλος εὔστοχος ἀφίημι θήρ βάλλω δόρυ ἀκοντίζω ἵππος ἅλλομαι προσαγγέλλω ἑαυτοὺς βασίλειος ἕκαστος ἐπιτηδεύω ὃ κρατέω φίλος τυγχάνω δυσπόριστος ψηφίδα προσφέρω ἕτερος λαμπρός βαφὴν ἁλουργίς ὑποτίθημι ποίημα σύγγραμμα προσφωνέω εὔζωνος ξένος ὅπλο'"
      ]
     },
     "execution_count": 18,
     "metadata": {},
     "output_type": "execute_result"
    }
   ],
   "source": [
    "sozomenus_str[:500]"
   ]
  },
  {
   "cell_type": "code",
   "execution_count": 20,
   "metadata": {},
   "outputs": [
    {
     "data": {
      "text/plain": [
       "[('λογος',),\n",
       " ('προς',),\n",
       " ('τον',),\n",
       " ('αυτοκρατορα',),\n",
       " ('θεοδοσιον',),\n",
       " ('και',),\n",
       " ('υποθεσις',),\n",
       " ('της',),\n",
       " ('εκκλησιαστικης',),\n",
       " ('ιστοριας',),\n",
       " ('φημί',),\n",
       " ('πάλλω',),\n",
       " ('αὐτοκράτωρ',),\n",
       " ('ἐπιμελής',),\n",
       " ('χρῆμα',),\n",
       " ('γίγνομαι',),\n",
       " ('φιλόκοσμος',),\n",
       " ('ἁλουργίς',),\n",
       " ('στέφανος',),\n",
       " ('παραπλήσιος',),\n",
       " ('δ̓',),\n",
       " ('αὖ2',),\n",
       " ('λογόω',),\n",
       " ('σπουδάζω',),\n",
       " ('μυθώδης',),\n",
       " ('τινὰ',),\n",
       " ('ποίησις',),\n",
       " ('σύγγραμμα',),\n",
       " ('θέλγω',),\n",
       " ('δύναμαι',),\n",
       " ('πόλεμος',),\n",
       " ('ἀσκέω',),\n",
       " ('βέλος',),\n",
       " ('εὔστοχος',),\n",
       " ('ἀφίημι',),\n",
       " ('θήρ',),\n",
       " ('βάλλω',),\n",
       " ('δόρυ',),\n",
       " ('ἀκοντίζω',),\n",
       " ('ἵππος',),\n",
       " ('ἅλλομαι',),\n",
       " ('προσαγγέλλω',),\n",
       " ('ἑαυτοὺς',),\n",
       " ('βασίλειος',),\n",
       " ('ἕκαστος',),\n",
       " ('ἐπιτηδεύω',),\n",
       " ('ὃ',),\n",
       " ('κρατέω',),\n",
       " ('φίλος',),\n",
       " ('τυγχάνω',),\n",
       " ('δυσπόριστος',),\n",
       " ('ψηφίδα',),\n",
       " ('προσφέρω',),\n",
       " ('ἕτερος',),\n",
       " ('λαμπρός',),\n",
       " ('βαφὴν',),\n",
       " ('ἁλουργίς',),\n",
       " ('ὑποτίθημι',),\n",
       " ('ποίημα',),\n",
       " ('σύγγραμμα',),\n",
       " ('προσφωνέω',),\n",
       " ('εὔζωνος',),\n",
       " ('ξένος',),\n",
       " ('ὅπλο',)]"
      ]
     },
     "execution_count": 20,
     "metadata": {},
     "output_type": "execute_result"
    }
   ],
   "source": [
    "from cltk.tag import ner\n",
    "text_str = 'λογος προς τον αυτοκρατορα θεοδοσιον και υποθεσις της εκκλησιαστικης ιστοριας φημί πάλλω αὐτοκράτωρ ἐπιμελής χρῆμα γίγνομαι φιλόκοσμος ἁλουργίς στέφανος παραπλήσιος δ̓ αὖ2 λογόω σπουδάζω μυθώδης τινὰ ποίησις σύγγραμμα θέλγω δύναμαι πόλεμος ἀσκέω βέλος εὔστοχος ἀφίημι θήρ βάλλω δόρυ ἀκοντίζω ἵππος ἅλλομαι προσαγγέλλω ἑαυτοὺς βασίλειος ἕκαστος ἐπιτηδεύω ὃ κρατέω φίλος τυγχάνω δυσπόριστος ψηφίδα προσφέρω ἕτερος λαμπρός βαφὴν ἁλουργίς ὑποτίθημι ποίημα σύγγραμμα προσφωνέω εὔζωνος ξένος ὅπλο'\n",
    "ner.tag_ner('greek', input_text=text_str, output_type=list)"
   ]
  },
  {
   "cell_type": "code",
   "execution_count": null,
   "metadata": {
    "collapsed": true
   },
   "outputs": [],
   "source": []
  }
 ],
 "metadata": {
  "kernelspec": {
   "display_name": "Python 3",
   "language": "python",
   "name": "python3"
  },
  "language_info": {
   "codemirror_mode": {
    "name": "ipython",
    "version": 3
   },
   "file_extension": ".py",
   "mimetype": "text/x-python",
   "name": "python",
   "nbconvert_exporter": "python",
   "pygments_lexer": "ipython3",
   "version": "3.6.1"
  }
 },
 "nbformat": 4,
 "nbformat_minor": 2
}
