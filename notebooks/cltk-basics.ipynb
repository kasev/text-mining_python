{
 "cells": [
  {
   "cell_type": "code",
   "execution_count": 29,
   "metadata": {
    "collapsed": true
   },
   "outputs": [],
   "source": [
    "# IMPORTING CORPUS\n",
    "from cltk.corpus.utils.importer import CorpusImporter"
   ]
  },
  {
   "cell_type": "code",
   "execution_count": 30,
   "metadata": {},
   "outputs": [
    {
     "data": {
      "text/plain": [
       "['greek_software_tlgu',\n",
       " 'greek_text_perseus',\n",
       " 'phi7',\n",
       " 'tlg',\n",
       " 'greek_proper_names_cltk',\n",
       " 'greek_models_cltk',\n",
       " 'greek_treebank_perseus',\n",
       " 'greek_lexica_perseus',\n",
       " 'greek_training_set_sentence_cltk',\n",
       " 'greek_word2vec_cltk',\n",
       " 'greek_text_lacus_curtius',\n",
       " 'greek_text_first1kgreek']"
      ]
     },
     "execution_count": 30,
     "metadata": {},
     "output_type": "execute_result"
    }
   ],
   "source": [
    "# SEE CORPUS CONTENT\n",
    "# create variable\n",
    "my_greek_downloader = CorpusImporter('greek')\n",
    "# see what is on the list\n",
    "my_greek_downloader.list_corpora"
   ]
  },
  {
   "cell_type": "code",
   "execution_count": 31,
   "metadata": {
    "collapsed": true
   },
   "outputs": [],
   "source": [
    "# to start to work with the language\n",
    "my_greek_downloader.import_corpus('greek_models_cltk')"
   ]
  },
  {
   "cell_type": "code",
   "execution_count": 32,
   "metadata": {
    "collapsed": true
   },
   "outputs": [],
   "source": [
    "my_greek_downloader.import_corpus('greek_proper_names_cltk')"
   ]
  },
  {
   "cell_type": "code",
   "execution_count": 33,
   "metadata": {},
   "outputs": [
    {
     "name": "stdout",
     "output_type": "stream",
     "text": [
      "Downloaded 1% 720.00 KiB | 715.00 KiB/s \r",
      "Downloaded 1% 720.00 KiB | 715.00 KiB/s \r",
      "Downloaded 2% 1.14 MiB | 771.00 KiB/s \r",
      "Downloaded 2% 1.68 MiB | 848.00 KiB/s \r",
      "Downloaded 3% 3.06 MiB | 1.01 MiB/s \r",
      "Downloaded 3% 3.06 MiB | 1.01 MiB/s \r",
      "Downloaded 3% 4.92 MiB | 1.20 MiB/s \r",
      "Downloaded 4% 6.05 MiB | 1.31 MiB/s \r",
      "Downloaded 4% 6.05 MiB | 1.31 MiB/s \r",
      "Downloaded 4% 7.80 MiB | 1.51 MiB/s \r",
      "Downloaded 5% 9.07 MiB | 1.58 MiB/s \r",
      "Downloaded 5% 9.07 MiB | 1.58 MiB/s \r",
      "Downloaded 6% 9.68 MiB | 1.57 MiB/s \r",
      "Downloaded 6% 10.32 MiB | 1.54 MiB/s \r",
      "Downloaded 7% 11.61 MiB | 1.43 MiB/s \r",
      "Downloaded 7% 12.91 MiB | 1.31 MiB/s \r",
      "Downloaded 7% 12.91 MiB | 1.31 MiB/s \r",
      "Downloaded 7% 14.89 MiB | 1.27 MiB/s \r",
      "Downloaded 8% 15.54 MiB | 1.27 MiB/s \r",
      "Downloaded 8% 15.54 MiB | 1.27 MiB/s \r",
      "Downloaded 9% 16.92 MiB | 1.29 MiB/s \r",
      "Downloaded 9% 16.92 MiB | 1.29 MiB/s \r",
      "Downloaded 10% 18.27 MiB | 1.30 MiB/s \r",
      "Downloaded 10% 19.50 MiB | 1.28 MiB/s \r",
      "Downloaded 10% 20.78 MiB | 1.27 MiB/s \r",
      "Downloaded 11% 21.42 MiB | 1.27 MiB/s \r",
      "Downloaded 11% 22.11 MiB | 1.27 MiB/s \r",
      "Downloaded 11% 23.50 MiB | 1.27 MiB/s \r",
      "Downloaded 12% 24.25 MiB | 1.29 MiB/s \r",
      "Downloaded 12% 25.02 MiB | 1.30 MiB/s \r",
      "Downloaded 13% 26.51 MiB | 1.34 MiB/s \r",
      "Downloaded 13% 26.51 MiB | 1.34 MiB/s \r",
      "Downloaded 13% 28.02 MiB | 1.42 MiB/s \r",
      "Downloaded 13% 29.50 MiB | 1.45 MiB/s \r",
      "Downloaded 14% 29.90 MiB | 1.39 MiB/s \r",
      "Downloaded 14% 31.29 MiB | 1.37 MiB/s \r",
      "Downloaded 15% 31.29 MiB | 1.37 MiB/s \r",
      "Downloaded 15% 32.73 MiB | 1.37 MiB/s \r",
      "Downloaded 16% 34.25 MiB | 1.36 MiB/s \r",
      "Downloaded 16% 35.87 MiB | 1.39 MiB/s \r",
      "Downloaded 17% 37.41 MiB | 1.46 MiB/s \r",
      "Downloaded 17% 37.41 MiB | 1.46 MiB/s \r",
      "Downloaded 18% 38.18 MiB | 1.50 MiB/s \r",
      "Downloaded 19% 39.80 MiB | 1.54 MiB/s \r",
      "Downloaded 19% 39.80 MiB | 1.54 MiB/s \r",
      "Downloaded 19% 41.39 MiB | 1.57 MiB/s \r",
      "Downloaded 19% 43.12 MiB | 1.60 MiB/s \r",
      "Downloaded 19% 43.91 MiB | 1.61 MiB/s \r",
      "Downloaded 20% 44.90 MiB | 1.65 MiB/s \r",
      "Downloaded 20% 45.97 MiB | 1.71 MiB/s \r",
      "Downloaded 21% 47.07 MiB | 1.79 MiB/s \r",
      "Downloaded 21% 48.27 MiB | 1.86 MiB/s \r",
      "Downloaded 22% 51.17 MiB | 2.15 MiB/s \r",
      "Downloaded 22% 54.97 MiB | 2.41 MiB/s \r",
      "Downloaded 22% 54.97 MiB | 2.41 MiB/s \r",
      "Downloaded 22% 56.02 MiB | 2.43 MiB/s \r",
      "Downloaded 23% 57.12 MiB | 2.43 MiB/s \r",
      "Downloaded 23% 58.22 MiB | 2.43 MiB/s \r",
      "Downloaded 24% 60.56 MiB | 2.40 MiB/s \r",
      "Downloaded 24% 61.11 MiB | 1.45 MiB/s \r",
      "Downloaded 24% 61.82 MiB | 1.15 MiB/s \r",
      "Downloaded 24% 61.86 MiB | 1000.00 KiB/s \r",
      "Downloaded 24% 63.39 MiB | 676.00 KiB/s \r",
      "Downloaded 24% 63.92 MiB | 566.00 KiB/s \r",
      "Downloaded 24% 64.97 MiB | 848.00 KiB/s \r",
      "Downloaded 24% 65.50 MiB | 963.00 KiB/s \r",
      "Downloaded 25% 66.07 MiB | 935.00 KiB/s \r",
      "Downloaded 25% 66.07 MiB | 935.00 KiB/s \r",
      "Downloaded 26% 66.07 MiB | 935.00 KiB/s \r",
      "Downloaded 27% 66.63 MiB | 1.02 MiB/s \r",
      "Downloaded 28% 66.63 MiB | 1.02 MiB/s \r",
      "Downloaded 28% 67.14 MiB | 1.08 MiB/s \r",
      "Downloaded 29% 67.14 MiB | 1.08 MiB/s \r",
      "Downloaded 30% 67.14 MiB | 1.08 MiB/s \r",
      "Downloaded 31% 67.71 MiB | 1.04 MiB/s \r",
      "Downloaded 31% 68.27 MiB | 1.05 MiB/s \r",
      "Downloaded 32% 68.27 MiB | 1.05 MiB/s \r",
      "Downloaded 32% 68.84 MiB | 1.06 MiB/s \r",
      "Downloaded 33% 70.03 MiB | 1.08 MiB/s \r",
      "Downloaded 33% 70.69 MiB | 1.11 MiB/s \r",
      "Downloaded 33% 71.39 MiB | 1.13 MiB/s \r",
      "Downloaded 34% 73.03 MiB | 1.26 MiB/s \r",
      "Downloaded 34% 75.04 MiB | 1.45 MiB/s \r",
      "Downloaded 34% 76.25 MiB | 1.60 MiB/s \r",
      "Downloaded 35% 77.64 MiB | 1.80 MiB/s \r",
      "Downloaded 35% 79.21 MiB | 2.00 MiB/s \r",
      "Downloaded 35% 80.87 MiB | 2.23 MiB/s \r",
      "Downloaded 36% 84.03 MiB | 2.61 MiB/s \r",
      "Downloaded 36% 84.03 MiB | 2.61 MiB/s \r",
      "Downloaded 37% 84.03 MiB | 2.61 MiB/s \r",
      "Downloaded 38% 85.28 MiB | 2.69 MiB/s \r",
      "Downloaded 39% 85.28 MiB | 2.69 MiB/s \r",
      "Downloaded 40% 85.28 MiB | 2.69 MiB/s \r",
      "Downloaded 41% 86.31 MiB | 2.71 MiB/s \r",
      "Downloaded 41% 86.31 MiB | 2.71 MiB/s \r",
      "Downloaded 42% 87.51 MiB | 2.63 MiB/s \r",
      "Downloaded 43% 87.51 MiB | 2.63 MiB/s \r",
      "Downloaded 44% 87.51 MiB | 2.63 MiB/s \r",
      "Downloaded 44% 88.91 MiB | 2.67 MiB/s \r",
      "Downloaded 45% 88.91 MiB | 2.67 MiB/s \r",
      "Downloaded 46% 89.88 MiB | 2.59 MiB/s \r",
      "Downloaded 47% 89.88 MiB | 2.59 MiB/s \r",
      "Downloaded 48% 90.91 MiB | 2.48 MiB/s \r",
      "Downloaded 49% 90.91 MiB | 2.48 MiB/s \r",
      "Downloaded 49% 90.91 MiB | 2.48 MiB/s \r",
      "Downloaded 50% 90.91 MiB | 2.48 MiB/s \r",
      "Downloaded 51% 90.91 MiB | 2.48 MiB/s \r",
      "Downloaded 52% 91.97 MiB | 2.34 MiB/s \r",
      "Downloaded 53% 93.06 MiB | 2.32 MiB/s \r",
      "Downloaded 53% 93.06 MiB | 2.32 MiB/s \r",
      "Downloaded 54% 93.06 MiB | 2.32 MiB/s \r",
      "Downloaded 55% 94.14 MiB | 2.14 MiB/s \r",
      "Downloaded 56% 94.97 MiB | 2.03 MiB/s \r",
      "Downloaded 56% 94.97 MiB | 2.03 MiB/s \r",
      "Downloaded 57% 94.97 MiB | 2.03 MiB/s \r",
      "Downloaded 58% 95.80 MiB | 1.98 MiB/s \r",
      "Downloaded 59% 95.80 MiB | 1.98 MiB/s \r",
      "Downloaded 59% 96.71 MiB | 2.01 MiB/s \r",
      "Downloaded 60% 96.71 MiB | 2.01 MiB/s \r",
      "Downloaded 61% 97.66 MiB | 1.91 MiB/s \r",
      "Downloaded 62% 97.66 MiB | 1.91 MiB/s \r",
      "Downloaded 62% 97.66 MiB | 1.91 MiB/s \r",
      "Downloaded 63% 98.68 MiB | 1.91 MiB/s \r",
      "Downloaded 64% 98.68 MiB | 1.91 MiB/s \r",
      "Downloaded 65% 98.68 MiB | 1.91 MiB/s \r",
      "Downloaded 66% 98.68 MiB | 1.91 MiB/s \r",
      "Downloaded 67% 99.75 MiB | 1.91 MiB/s \r",
      "Downloaded 68% 99.75 MiB | 1.91 MiB/s \r",
      "Downloaded 68% 99.75 MiB | 1.91 MiB/s \r",
      "Downloaded 69% 100.88 MiB | 1.93 MiB/s \r",
      "Downloaded 70% 101.90 MiB | 1.92 MiB/s \r",
      "Downloaded 71% 101.90 MiB | 1.92 MiB/s \r",
      "Downloaded 71% 103.03 MiB | 1.93 MiB/s \r",
      "Downloaded 72% 105.11 MiB | 2.05 MiB/s \r",
      "Downloaded 72% 106.17 MiB | 2.08 MiB/s \r",
      "Downloaded 72% 106.17 MiB | 2.08 MiB/s \r",
      "Downloaded 73% 109.35 MiB | 2.13 MiB/s \r",
      "Downloaded 73% 111.57 MiB | 2.15 MiB/s \r",
      "Downloaded 73% 111.57 MiB | 2.15 MiB/s \r",
      "Downloaded 74% 111.57 MiB | 2.15 MiB/s \r",
      "Downloaded 75% 113.86 MiB | 2.16 MiB/s \r",
      "Downloaded 75% 114.86 MiB | 2.13 MiB/s \r",
      "Downloaded 75% 117.85 MiB | 2.32 MiB/s \r",
      "Downloaded 76% 117.85 MiB | 2.32 MiB/s \r",
      "Downloaded 76% 120.74 MiB | 2.49 MiB/s \r",
      "Downloaded 76% 120.74 MiB | 2.49 MiB/s \r",
      "Downloaded 77% 123.94 MiB | 2.35 MiB/s \r",
      "Downloaded 77% 125.67 MiB | 2.47 MiB/s \r",
      "Downloaded 77% 125.67 MiB | 2.47 MiB/s \r",
      "Downloaded 78% 128.18 MiB | 2.55 MiB/s \r",
      "Downloaded 78% 128.18 MiB | 2.55 MiB/s \r",
      "Downloaded 79% 129.54 MiB | 2.48 MiB/s \r",
      "Downloaded 80% 130.98 MiB | 2.51 MiB/s \r",
      "Downloaded 80% 130.98 MiB | 2.51 MiB/s \r",
      "Downloaded 81% 132.48 MiB | 2.53 MiB/s \r",
      "Downloaded 82% 134.05 MiB | 2.55 MiB/s \r",
      "Downloaded 83% 134.05 MiB | 2.55 MiB/s \r",
      "Downloaded 84% 134.05 MiB | 2.55 MiB/s \r",
      "Downloaded 85% 134.05 MiB | 2.55 MiB/s \r",
      "Downloaded 86% 134.05 MiB | 2.55 MiB/s \r",
      "Downloaded 86% 134.05 MiB | 2.55 MiB/s \r",
      "Downloaded 87% 134.05 MiB | 2.55 MiB/s \r",
      "Downloaded 88% 134.05 MiB | 2.55 MiB/s \r",
      "Downloaded 89% 134.05 MiB | 2.55 MiB/s \r",
      "Downloaded 90% 134.05 MiB | 2.55 MiB/s \r",
      "Downloaded 91% 135.67 MiB | 2.54 MiB/s \r",
      "Downloaded 92% 135.67 MiB | 2.54 MiB/s \r",
      "Downloaded 93% 135.67 MiB | 2.54 MiB/s \r",
      "Downloaded 93% 137.33 MiB | 2.94 MiB/s \r",
      "Downloaded 94% 137.33 MiB | 2.94 MiB/s \r",
      "Downloaded 95% 138.29 MiB | 2.77 MiB/s \r",
      "Downloaded 96% 138.29 MiB | 2.77 MiB/s \r",
      "Downloaded 97% 138.29 MiB | 2.77 MiB/s \r",
      "Downloaded 98% 138.29 MiB | 2.77 MiB/s \r",
      "Downloaded 98% 139.96 MiB | 2.86 MiB/s \r",
      "Downloaded 99% 141.23 MiB | 2.87 MiB/s \r",
      "Downloaded 100% 142.58 MiB | 2.87 MiB/s \r",
      "Downloaded 100% 142.58 MiB | 2.87 MiB/s \r",
      "Downloaded 100% 143.79 MiB | 2.87 MiB/s \r"
     ]
    }
   ],
   "source": [
    "# importing perseus\n",
    "my_greek_downloader.import_corpus('greek_text_perseus')\n",
    "my_greek_downloader.import_corpus('greek_treebank_perseus')\n",
    "my_greek_downloader.import_corpus('greek_lexica_perseus')"
   ]
  },
  {
   "cell_type": "code",
   "execution_count": 34,
   "metadata": {},
   "outputs": [
    {
     "name": "stdout",
     "output_type": "stream",
     "text": [
      "Downloaded 0% 100.00 KiB | 85.00 KiB/s \r",
      "Downloaded 0% 228.00 KiB | 103.00 KiB/s \r",
      "Downloaded 0% 420.00 KiB | 126.00 KiB/s \r",
      "Downloaded 1% 596.00 KiB | 153.00 KiB/s \r",
      "Downloaded 1% 596.00 KiB | 153.00 KiB/s \r",
      "Downloaded 2% 804.00 KiB | 182.00 KiB/s \r",
      "Downloaded 2% 1.09 MiB | 226.00 KiB/s \r",
      "Downloaded 3% 1.43 MiB | 291.00 KiB/s \r",
      "Downloaded 4% 1.43 MiB | 291.00 KiB/s \r",
      "Downloaded 4% 1.89 MiB | 383.00 KiB/s \r",
      "Downloaded 5% 2.45 MiB | 490.00 KiB/s \r",
      "Downloaded 5% 3.14 MiB | 628.00 KiB/s \r",
      "Downloaded 6% 3.14 MiB | 628.00 KiB/s \r",
      "Downloaded 7% 3.14 MiB | 628.00 KiB/s \r",
      "Downloaded 8% 4.87 MiB | 976.00 KiB/s \r",
      "Downloaded 8% 4.87 MiB | 976.00 KiB/s \r",
      "Downloaded 9% 4.87 MiB | 976.00 KiB/s \r",
      "Downloaded 10% 6.36 MiB | 1.25 MiB/s \r",
      "Downloaded 11% 6.36 MiB | 1.25 MiB/s \r",
      "Downloaded 12% 6.36 MiB | 1.25 MiB/s \r",
      "Downloaded 12% 7.87 MiB | 1.55 MiB/s \r",
      "Downloaded 13% 7.87 MiB | 1.55 MiB/s \r",
      "Downloaded 14% 9.21 MiB | 1.77 MiB/s \r",
      "Downloaded 15% 10.50 MiB | 1.98 MiB/s \r",
      "Downloaded 15% 10.50 MiB | 1.98 MiB/s \r",
      "Downloaded 16% 11.76 MiB | 2.16 MiB/s \r",
      "Downloaded 17% 11.76 MiB | 2.16 MiB/s \r",
      "Downloaded 18% 11.76 MiB | 2.16 MiB/s \r",
      "Downloaded 19% 11.76 MiB | 2.16 MiB/s \r",
      "Downloaded 20% 13.17 MiB | 2.34 MiB/s \r",
      "Downloaded 20% 13.17 MiB | 2.34 MiB/s \r",
      "Downloaded 21% 14.52 MiB | 2.49 MiB/s \r",
      "Downloaded 22% 14.52 MiB | 2.49 MiB/s \r",
      "Downloaded 23% 15.82 MiB | 2.52 MiB/s \r",
      "Downloaded 23% 15.82 MiB | 2.52 MiB/s \r",
      "Downloaded 24% 15.82 MiB | 2.52 MiB/s \r",
      "Downloaded 25% 17.21 MiB | 2.65 MiB/s \r",
      "Downloaded 26% 17.21 MiB | 2.65 MiB/s \r",
      "Downloaded 26% 17.21 MiB | 2.65 MiB/s \r",
      "Downloaded 27% 18.27 MiB | 2.56 MiB/s \r",
      "Downloaded 28% 19.43 MiB | 2.48 MiB/s \r",
      "Downloaded 28% 19.43 MiB | 2.48 MiB/s \r",
      "Downloaded 29% 20.61 MiB | 2.46 MiB/s \r",
      "Downloaded 30% 20.61 MiB | 2.46 MiB/s \r",
      "Downloaded 31% 21.57 MiB | 2.39 MiB/s \r",
      "Downloaded 31% 21.57 MiB | 2.39 MiB/s \r",
      "Downloaded 32% 21.57 MiB | 2.39 MiB/s \r",
      "Downloaded 33% 22.51 MiB | 2.32 MiB/s \r",
      "Downloaded 34% 22.51 MiB | 2.32 MiB/s \r",
      "Downloaded 35% 22.51 MiB | 2.32 MiB/s \r",
      "Downloaded 36% 22.51 MiB | 2.32 MiB/s \r",
      "Downloaded 37% 23.48 MiB | 2.22 MiB/s \r",
      "Downloaded 37% 24.09 MiB | 1.53 MiB/s \r",
      "Downloaded 38% 24.63 MiB | 1.25 MiB/s \r",
      "Downloaded 38% 24.82 MiB | 1.08 MiB/s \r",
      "Downloaded 38% 26.43 MiB | 847.00 KiB/s \r",
      "Downloaded 38% 26.43 MiB | 847.00 KiB/s \r",
      "Downloaded 38% 26.93 MiB | 776.00 KiB/s \r",
      "Downloaded 39% 27.52 MiB | 725.00 KiB/s \r",
      "Downloaded 40% 27.52 MiB | 725.00 KiB/s \r",
      "Downloaded 41% 27.52 MiB | 725.00 KiB/s \r",
      "Downloaded 42% 28.11 MiB | 665.00 KiB/s \r",
      "Downloaded 43% 28.11 MiB | 665.00 KiB/s \r",
      "Downloaded 43% 28.11 MiB | 665.00 KiB/s \r",
      "Downloaded 44% 28.70 MiB | 860.00 KiB/s \r",
      "Downloaded 44% 29.26 MiB | 1020.00 KiB/s \r",
      "Downloaded 45% 30.43 MiB | 1.08 MiB/s \r",
      "Downloaded 45% 30.43 MiB | 1.08 MiB/s \r",
      "Downloaded 45% 31.65 MiB | 1.13 MiB/s \r",
      "Downloaded 46% 33.41 MiB | 1.16 MiB/s \r",
      "Downloaded 46% 33.41 MiB | 1.16 MiB/s \r",
      "Downloaded 47% 34.08 MiB | 1.17 MiB/s \r",
      "Downloaded 47% 35.50 MiB | 1.23 MiB/s \r",
      "Downloaded 47% 35.50 MiB | 1.23 MiB/s \r",
      "Downloaded 48% 35.50 MiB | 1.23 MiB/s \r",
      "Downloaded 49% 37.01 MiB | 1.28 MiB/s \r",
      "Downloaded 49% 37.74 MiB | 1.31 MiB/s \r",
      "Downloaded 49% 38.45 MiB | 1.36 MiB/s \r",
      "Downloaded 50% 38.45 MiB | 1.36 MiB/s \r",
      "Downloaded 50% 39.98 MiB | 1.42 MiB/s \r",
      "Downloaded 51% 40.88 MiB | 1.47 MiB/s \r",
      "Downloaded 51% 41.75 MiB | 1.54 MiB/s \r",
      "Downloaded 52% 42.71 MiB | 1.56 MiB/s \r",
      "Downloaded 53% 42.71 MiB | 1.56 MiB/s \r",
      "Downloaded 54% 42.71 MiB | 1.56 MiB/s \r",
      "Downloaded 55% 42.71 MiB | 1.56 MiB/s \r",
      "Downloaded 56% 42.71 MiB | 1.56 MiB/s \r",
      "Downloaded 56% 43.71 MiB | 1.63 MiB/s \r",
      "Downloaded 57% 43.71 MiB | 1.63 MiB/s \r",
      "Downloaded 58% 43.71 MiB | 1.63 MiB/s \r",
      "Downloaded 59% 43.71 MiB | 1.63 MiB/s \r",
      "Downloaded 60% 44.86 MiB | 1.72 MiB/s \r",
      "Downloaded 61% 44.86 MiB | 1.72 MiB/s \r",
      "Downloaded 62% 46.11 MiB | 1.84 MiB/s \r",
      "Downloaded 62% 46.11 MiB | 1.84 MiB/s \r",
      "Downloaded 62% 48.57 MiB | 2.02 MiB/s \r",
      "Downloaded 63% 48.57 MiB | 2.02 MiB/s \r",
      "Downloaded 64% 48.57 MiB | 2.02 MiB/s \r",
      "Downloaded 65% 51.05 MiB | 2.17 MiB/s \r",
      "Downloaded 65% 51.05 MiB | 2.17 MiB/s \r",
      "Downloaded 65% 52.93 MiB | 2.10 MiB/s \r",
      "Downloaded 65% 54.09 MiB | 1.87 MiB/s \r",
      "Downloaded 65% 54.66 MiB | 1.72 MiB/s \r",
      "Downloaded 66% 55.89 MiB | 1.49 MiB/s \r",
      "Downloaded 66% 57.04 MiB | 1.24 MiB/s \r",
      "Downloaded 66% 58.79 MiB | 1.17 MiB/s \r",
      "Downloaded 66% 59.41 MiB | 1.17 MiB/s \r",
      "Downloaded 67% 60.72 MiB | 1.20 MiB/s \r",
      "Downloaded 67% 60.72 MiB | 1.20 MiB/s \r",
      "Downloaded 67% 61.36 MiB | 1.17 MiB/s \r",
      "Downloaded 68% 62.47 MiB | 1.28 MiB/s \r",
      "Downloaded 68% 63.32 MiB | 1.32 MiB/s \r",
      "Downloaded 69% 65.35 MiB | 1.50 MiB/s \r",
      "Downloaded 69% 65.35 MiB | 1.50 MiB/s \r",
      "Downloaded 70% 68.41 MiB | 1.71 MiB/s \r",
      "Downloaded 70% 68.41 MiB | 1.71 MiB/s \r",
      "Downloaded 71% 70.54 MiB | 2.02 MiB/s \r",
      "Downloaded 71% 70.54 MiB | 2.02 MiB/s \r",
      "Downloaded 72% 70.54 MiB | 2.02 MiB/s \r",
      "Downloaded 73% 70.54 MiB | 2.02 MiB/s \r",
      "Downloaded 74% 73.55 MiB | 2.36 MiB/s \r",
      "Downloaded 75% 73.55 MiB | 2.36 MiB/s \r",
      "Downloaded 75% 74.90 MiB | 2.47 MiB/s \r",
      "Downloaded 76% 77.37 MiB | 2.53 MiB/s \r",
      "Downloaded 76% 77.37 MiB | 2.53 MiB/s \r",
      "Downloaded 77% 78.65 MiB | 2.58 MiB/s \r",
      "Downloaded 77% 79.60 MiB | 2.50 MiB/s \r",
      "Downloaded 77% 79.60 MiB | 2.50 MiB/s \r",
      "Downloaded 78% 80.64 MiB | 2.62 MiB/s \r",
      "Downloaded 79% 82.82 MiB | 2.21 MiB/s \r",
      "Downloaded 79% 83.89 MiB | 2.22 MiB/s \r",
      "Downloaded 80% 84.96 MiB | 2.15 MiB/s \r",
      "Downloaded 80% 84.96 MiB | 2.15 MiB/s \r",
      "Downloaded 81% 86.16 MiB | 2.06 MiB/s \r",
      "Downloaded 82% 86.16 MiB | 2.06 MiB/s \r",
      "Downloaded 82% 86.16 MiB | 2.06 MiB/s \r",
      "Downloaded 83% 89.43 MiB | 2.15 MiB/s \r",
      "Downloaded 83% 89.43 MiB | 2.15 MiB/s \r",
      "Downloaded 84% 90.44 MiB | 2.15 MiB/s \r",
      "Downloaded 84% 90.44 MiB | 2.15 MiB/s \r",
      "Downloaded 85% 91.58 MiB | 2.17 MiB/s \r",
      "Downloaded 86% 91.58 MiB | 2.17 MiB/s \r",
      "Downloaded 87% 92.75 MiB | 2.18 MiB/s \r",
      "Downloaded 88% 92.75 MiB | 2.18 MiB/s \r",
      "Downloaded 88% 92.75 MiB | 2.18 MiB/s \r",
      "Downloaded 89% 93.86 MiB | 2.19 MiB/s \r",
      "Downloaded 90% 93.86 MiB | 2.19 MiB/s \r",
      "Downloaded 91% 96.26 MiB | 2.23 MiB/s \r",
      "Downloaded 91% 96.26 MiB | 2.23 MiB/s \r",
      "Downloaded 92% 98.75 MiB | 2.30 MiB/s \r",
      "Downloaded 92% 101.04 MiB | 2.34 MiB/s \r",
      "Downloaded 92% 101.04 MiB | 2.34 MiB/s \r",
      "Downloaded 92% 102.35 MiB | 2.37 MiB/s \r",
      "Downloaded 93% 106.17 MiB | 2.44 MiB/s \r",
      "Downloaded 93% 106.17 MiB | 2.44 MiB/s \r",
      "Downloaded 93% 107.60 MiB | 2.50 MiB/s \r",
      "Downloaded 94% 110.58 MiB | 2.60 MiB/s \r",
      "Downloaded 94% 110.58 MiB | 2.60 MiB/s \r",
      "Downloaded 95% 113.57 MiB | 2.76 MiB/s \r",
      "Downloaded 95% 113.57 MiB | 2.76 MiB/s \r",
      "Downloaded 96% 115.14 MiB | 2.83 MiB/s \r",
      "Downloaded 97% 116.46 MiB | 2.86 MiB/s \r",
      "Downloaded 97% 116.46 MiB | 2.86 MiB/s \r",
      "Downloaded 98% 118.74 MiB | 2.79 MiB/s \r",
      "Downloaded 98% 122.87 MiB | 2.73 MiB/s \r",
      "Downloaded 98% 124.27 MiB | 2.72 MiB/s \r",
      "Downloaded 98% 127.79 MiB | 2.52 MiB/s \r",
      "Downloaded 98% 127.79 MiB | 2.52 MiB/s \r",
      "Downloaded 98% 130.11 MiB | 2.53 MiB/s \r",
      "Downloaded 98% 132.64 MiB | 2.49 MiB/s \r",
      "Downloaded 98% 133.96 MiB | 2.46 MiB/s \r",
      "Downloaded 98% 135.31 MiB | 2.04 MiB/s \r",
      "Downloaded 98% 135.39 MiB | 1.31 MiB/s \r",
      "Downloaded 98% 135.41 MiB | 1.14 MiB/s \r",
      "Downloaded 98% 137.43 MiB | 1.07 MiB/s \r",
      "Downloaded 98% 139.20 MiB | 982.00 KiB/s \r",
      "Downloaded 98% 139.89 MiB | 887.00 KiB/s \r",
      "Downloaded 99% 142.32 MiB | 1.47 MiB/s \r",
      "Downloaded 99% 144.08 MiB | 1.70 MiB/s \r",
      "Downloaded 99% 145.93 MiB | 1.64 MiB/s \r",
      "Downloaded 99% 146.72 MiB | 1.65 MiB/s \r",
      "Downloaded 99% 149.10 MiB | 1.66 MiB/s \r",
      "Downloaded 99% 149.10 MiB | 1.66 MiB/s \r",
      "Downloaded 99% 150.03 MiB | 1.68 MiB/s \r",
      "Downloaded 99% 151.82 MiB | 1.69 MiB/s \r",
      "Downloaded 99% 154.50 MiB | 1.70 MiB/s \r",
      "Downloaded 99% 156.33 MiB | 1.76 MiB/s \r",
      "Downloaded 100% 158.22 MiB | 1.80 MiB/s \r",
      "Downloaded 100% 159.06 MiB | 1.79 MiB/s \r",
      "Downloaded 100% 160.97 MiB | 1.81 MiB/s \r",
      "Downloaded 100% 162.95 MiB | 1.86 MiB/s \r",
      "Downloaded 100% 163.52 MiB | 1.96 MiB/s \r"
     ]
    }
   ],
   "source": [
    "# importing first1kgreek\n",
    "my_greek_downloader.import_corpus('greek_text_first1kgreek')"
   ]
  },
  {
   "cell_type": "code",
   "execution_count": 36,
   "metadata": {},
   "outputs": [],
   "source": [
    "my_greek_downloader.import_corpus('tlg','~/cltk_data/greek/text/')"
   ]
  },
  {
   "cell_type": "code",
   "execution_count": 37,
   "metadata": {
    "collapsed": true
   },
   "outputs": [],
   "source": [
    "# importing TLGU\n",
    "my_greek_downloader.import_corpus('greek_software_tlgu')"
   ]
  },
  {
   "cell_type": "code",
   "execution_count": 38,
   "metadata": {
    "collapsed": true
   },
   "outputs": [],
   "source": [
    "# CONVERTING BETA CODE TO UNICODE\n",
    "# the files are typically in TEI XML format in betacode\n",
    "# we need to transform them into unicode\n",
    "from cltk.corpus.greek.beta_to_unicode import Replacer"
   ]
  },
  {
   "cell_type": "raw",
   "metadata": {},
   "source": [
    "# EXAMPLE\n",
    "# the string has to start with 'r' \n",
    "# and has to be enclosed by '\"\"\"' on both ends\n",
    "BETA_EXAMPLE = r\"\"\"O(/PWS OU)=N MH\\ TAU)TO\\ PA/QWMEN E)KEI/NOIS, E)PI\\ TH\\N DIA/GNWSIN AU)TW=N E)/RXESQAI DEI= PRW=TON. TINE\\S ME\\N OU)=N AU)TW=N EI)SIN A)KRIBEI=S, TINE\\S DE\\ OU)K A)KRIBEI=S O)/NTES METAPI/-PTOUSIN EI)S TOU\\S E)PI\\ SH/YEI: OU(/TW GA\\R KAI\\ LOU=SAI KAI\\ QRE/YAI KALW=S KAI\\ MH\\ LOU=SAI PA/LIN, O(/TE MH\\ O)RQW=S DUNHQEI/HMEN.\"\"\"\n",
    "r = Replacer()\n",
    "r.beta_code(BETA_EXAMPLE)"
   ]
  },
  {
   "cell_type": "raw",
   "metadata": {},
   "source": [
    "# ACCENTUATION\n",
    "# the following is probably not necessary for basic operation with ready corpora\n",
    "# in addition to installing 'greek-accentuation' library in terminal\n",
    "# you need import a sellection of its modules\n",
    "# to simplify characters:\n",
    "## from greek_accentuation.characters import base\n",
    "# to split words in syllables:\n",
    "## from greek_accentuation.characters import syllabify\n",
    "# main command is 'syllabify()'"
   ]
  },
  {
   "cell_type": "code",
   "execution_count": 39,
   "metadata": {
    "collapsed": true
   },
   "outputs": [],
   "source": [
    "# NAMED ENTITY RECOGNITION (NER)\n",
    "from cltk.tag import ner"
   ]
  },
  {
   "cell_type": "code",
   "execution_count": 44,
   "metadata": {},
   "outputs": [
    {
     "data": {
      "text/plain": [
       "[('τὰ',),\n",
       " ('Σίλαριν', 'Entity'),\n",
       " ('Σιννᾶν', 'Entity'),\n",
       " ('Κάππαρος', 'Entity'),\n",
       " ('Πρωτογενείας', 'Entity'),\n",
       " ('Διονυσιάδες', 'Entity'),\n",
       " ('τὴν',)]"
      ]
     },
     "execution_count": 44,
     "metadata": {},
     "output_type": "execute_result"
    }
   ],
   "source": [
    "# NER CODE EXAMPLE\n",
    "text_str = 'τὰ Σίλαριν Σιννᾶν Κάππαρος Πρωτογενείας Διονυσιάδες τὴν'\n",
    "ner.tag_ner('greek', input_text=text_str, output_type=list)"
   ]
  },
  {
   "cell_type": "code",
   "execution_count": 40,
   "metadata": {
    "collapsed": true
   },
   "outputs": [],
   "source": [
    "# STOPWORDS FILTERING\n",
    "from nltk.tokenize.punkt import PunktLanguageVars\n",
    "from cltk.stop.greek.stops import STOPS_LIST"
   ]
  },
  {
   "cell_type": "code",
   "execution_count": 45,
   "metadata": {},
   "outputs": [
    {
     "data": {
      "text/plain": [
       "['ἅρπαγος',\n",
       " 'καταστρεψάμενος',\n",
       " 'ἰωνίην',\n",
       " 'ἐποιέετο',\n",
       " 'στρατηίην',\n",
       " 'κᾶρας',\n",
       " 'καυνίους',\n",
       " 'λυκίους',\n",
       " ',',\n",
       " 'ἅμα',\n",
       " 'ἀγόμενος',\n",
       " 'ἴωνας',\n",
       " 'αἰολέας.']"
      ]
     },
     "execution_count": 45,
     "metadata": {},
     "output_type": "execute_result"
    }
   ],
   "source": [
    "# STOPWORDS EXAMPLE\n",
    "sentence = 'Ἅρπαγος δὲ καταστρεψάμενος Ἰωνίην ἐποιέετο στρατηίην ἐπὶ Κᾶρας καὶ Καυνίους καὶ Λυκίους, ἅμα ἀγόμενος καὶ Ἴωνας καὶ Αἰολέας.'\n",
    "p = PunktLanguageVars()\n",
    "tokens = p.word_tokenize(sentence.lower())\n",
    "[w for w in tokens if not w in STOPS_LIST]"
   ]
  },
  {
   "cell_type": "code",
   "execution_count": 41,
   "metadata": {
    "collapsed": true
   },
   "outputs": [],
   "source": [
    "# USING TLGU SOFTWARE\n",
    "from cltk.corpus.greek.tlgu import TLGU\n"
   ]
  },
  {
   "cell_type": "code",
   "execution_count": 42,
   "metadata": {
    "collapsed": true
   },
   "outputs": [],
   "source": [
    "# CONVERTING TEI XML TO PLAINTEXT\n",
    "# based on BeautifulSoup library (pip install bs4):\n",
    "from cltk.corpus.greek.tei import onekgreek_tei_xml_to_text\n",
    "onekgreek_tei_xml_to_text()\n",
    "\n"
   ]
  },
  {
   "cell_type": "code",
   "execution_count": 43,
   "metadata": {
    "collapsed": true
   },
   "outputs": [],
   "source": [
    "t = TLGU()\n",
    "t.convert_corpus(corpus='tlg')"
   ]
  },
  {
   "cell_type": "code",
   "execution_count": null,
   "metadata": {
    "collapsed": true
   },
   "outputs": [],
   "source": []
  }
 ],
 "metadata": {
  "kernelspec": {
   "display_name": "Python 3",
   "language": "python",
   "name": "python3"
  },
  "language_info": {
   "codemirror_mode": {
    "name": "ipython",
    "version": 3
   },
   "file_extension": ".py",
   "mimetype": "text/x-python",
   "name": "python",
   "nbconvert_exporter": "python",
   "pygments_lexer": "ipython3",
   "version": "3.6.1"
  }
 },
 "nbformat": 4,
 "nbformat_minor": 2
}
