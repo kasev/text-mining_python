{
 "cells": [
  {
   "cell_type": "code",
   "execution_count": null,
   "metadata": {
    "collapsed": true
   },
   "outputs": [],
   "source": [
    "# IMPORTING CORPUS\n",
    "from cltk.corpus.utils.importer import CorpusImporter"
   ]
  },
  {
   "cell_type": "code",
   "execution_count": null,
   "metadata": {},
   "outputs": [],
   "source": [
    "# SEE CORPUS CONTENT\n",
    "# create variable\n",
    "my_greek_downloader = CorpusImporter('greek')\n",
    "# see what is on the list\n",
    "my_greek_downloader.list_corpora"
   ]
  },
  {
   "cell_type": "code",
   "execution_count": null,
   "metadata": {
    "collapsed": true
   },
   "outputs": [],
   "source": [
    "# to start to work with the language\n",
    "my_greek_downloader.import_corpus('greek_models_cltk')"
   ]
  },
  {
   "cell_type": "code",
   "execution_count": null,
   "metadata": {
    "collapsed": true
   },
   "outputs": [],
   "source": [
    "my_greek_downloader.import_corpus('greek_proper_names_cltk')"
   ]
  },
  {
   "cell_type": "code",
   "execution_count": null,
   "metadata": {
    "collapsed": true
   },
   "outputs": [],
   "source": [
    "# importing perseus\n",
    "my_greek_downloader.import_corpus('greek_text_perseus')\n",
    "my_greek_downloader.import_corpus('greek_treebank_perseus')\n",
    "my_greek_downloader.import_corpus('greek_lexica_perseus')"
   ]
  },
  {
   "cell_type": "code",
   "execution_count": null,
   "metadata": {
    "collapsed": true
   },
   "outputs": [],
   "source": [
    "# importing first1kgreek\n",
    "my_greek_downloader.import_corpus('greek_text_first1kgreek')"
   ]
  },
  {
   "cell_type": "code",
   "execution_count": null,
   "metadata": {
    "collapsed": true
   },
   "outputs": [],
   "source": [
    "# importing TLGU\n",
    "my_greek_downloader.import_corpus('greek_software_tlgu')"
   ]
  },
  {
   "cell_type": "code",
   "execution_count": null,
   "metadata": {
    "collapsed": true
   },
   "outputs": [],
   "source": [
    "my_greek_downloader.import_corpus('tlg', '~/cltk/corpora/TLG_E')"
   ]
  },
  {
   "cell_type": "code",
   "execution_count": null,
   "metadata": {
    "collapsed": true
   },
   "outputs": [],
   "source": [
    "# CONVERTING BETA CODE TO UNICODE\n",
    "# the files are typically in TEI XML format in betacode\n",
    "# we need to transform them into unicode\n",
    "from cltk.corpus.greek.beta_to_unicode import Replacer"
   ]
  },
  {
   "cell_type": "raw",
   "metadata": {},
   "source": [
    "# EXAMPLE\n",
    "# the string has to start with 'r' \n",
    "# and has to be enclosed by '\"\"\"' on both ends\n",
    "BETA_EXAMPLE = r\"\"\"O(/PWS OU)=N MH\\ TAU)TO\\ PA/QWMEN E)KEI/NOIS, E)PI\\ TH\\N DIA/GNWSIN AU)TW=N E)/RXESQAI DEI= PRW=TON. TINE\\S ME\\N OU)=N AU)TW=N EI)SIN A)KRIBEI=S, TINE\\S DE\\ OU)K A)KRIBEI=S O)/NTES METAPI/-PTOUSIN EI)S TOU\\S E)PI\\ SH/YEI: OU(/TW GA\\R KAI\\ LOU=SAI KAI\\ QRE/YAI KALW=S KAI\\ MH\\ LOU=SAI PA/LIN, O(/TE MH\\ O)RQW=S DUNHQEI/HMEN.\"\"\"\n",
    "r = Replacer()\n",
    "r.beta_code(BETA_EXAMPLE)"
   ]
  },
  {
   "cell_type": "raw",
   "metadata": {},
   "source": [
    "# ACCENTUATION\n",
    "# the following is probably not necessary for basic operation with ready corpora\n",
    "# in addition to installing 'greek-accentuation' library in terminal\n",
    "# you need import a sellection of its modules\n",
    "# to simplify characters:\n",
    "## from greek_accentuation.characters import base\n",
    "# to split words in syllables:\n",
    "## from greek_accentuation.characters import syllabify\n",
    "# main command is 'syllabify()'"
   ]
  },
  {
   "cell_type": "code",
   "execution_count": null,
   "metadata": {
    "collapsed": true
   },
   "outputs": [],
   "source": [
    "# STOPWORDS FILTERING\n",
    "from nltk.tokenize.punkt import PunktLanguageVars\n",
    "from cltk.stop.greek.stops import STOPS_LIST"
   ]
  },
  {
   "cell_type": "raw",
   "metadata": {},
   "source": [
    "# STOPWORDS EXAMPLE\n",
    "sentence = 'Ἅρπαγος δὲ καταστρεψάμενος Ἰωνίην ἐποιέετο στρατηίην ἐπὶ Κᾶρας καὶ Καυνίους καὶ Λυκίους, ἅμα ἀγόμενος καὶ Ἴωνας καὶ Αἰολέας.'\n",
    "p = PunktLanguageVars()\n",
    "tokens = p.word_tokenize(sentence.lower())\n",
    "[w for w in tokens if not w in STOPS_LIST]"
   ]
  },
  {
   "cell_type": "code",
   "execution_count": null,
   "metadata": {
    "collapsed": true
   },
   "outputs": [],
   "source": [
    "# USING TLGU SOFTWARE\n",
    "from cltk.corpus.greek.tlgu import TLGU\n"
   ]
  },
  {
   "cell_type": "code",
   "execution_count": null,
   "metadata": {
    "collapsed": true
   },
   "outputs": [],
   "source": [
    "# CONVERTING TEI XML TO PLAINTEXT\n",
    "# based on BeautifulSoup library (pip install bs4):\n",
    "from cltk.corpus.greek.tei import onekgreek_tei_xml_to_text\n",
    "onekgreek_tei_xml_to_text()"
   ]
  },
  {
   "cell_type": "markdown",
   "metadata": {},
   "source": [
    "# Real work with real texts"
   ]
  },
  {
   "cell_type": "code",
   "execution_count": 3,
   "metadata": {
    "collapsed": true
   },
   "outputs": [],
   "source": [
    "from cltk.corpus.utils.formatter import tlg_plaintext_cleanup\n",
    "import os"
   ]
  },
  {
   "cell_type": "code",
   "execution_count": 6,
   "metadata": {
    "collapsed": true
   },
   "outputs": [],
   "source": [
    "# INPUT\n",
    "text_file = os.path.expanduser('~/cltk_data/greek/text/greek_text_first1kgreek_plaintext/tlg0645.tlg003.perseus-grc2.txt')"
   ]
  },
  {
   "cell_type": "code",
   "execution_count": 8,
   "metadata": {},
   "outputs": [],
   "source": [
    "# UPLOADING AND CLEANING\n",
    "with open(text_file) as f:\n",
    "    text_raw = f.read()\n",
    "\n",
    "from cltk.corpus.utils.formatter import tlg_plaintext_cleanup\n",
    "text_cleaned = tlg_plaintext_cleanup(text_raw, rm_punctuation=True, rm_periods=True) [:]\n",
    "#  rm_periods=True returns no interpunction\n",
    "\n",
    "# LEMMATIZATION\n",
    "# does not work so good as I would like\n",
    "from cltk.stem.lemma import LemmaReplacer\n",
    "lemmatizer = LemmaReplacer('greek')\n",
    "text_lemmatized = lemmatizer.lemmatize(text_cleaned, return_string=True)\n",
    "\n",
    "\n",
    "# STROPWORDS FILTERING\n",
    "from nltk.tokenize.punkt import PunktLanguageVars\n",
    "from cltk.stop.greek.stops import STOPS_LIST\n",
    "p = PunktLanguageVars()\n",
    "\n",
    "# STRING FORMATION\n",
    "text_tokens = p.word_tokenize(text_lemmatized.lower())\n",
    "text_without_stopwords = [w for w in text_tokens if not w in STOPS_LIST]\n",
    "text_str = \" \".join(text_without_stopwords)\n",
    "\n",
    "# WORD FREQUENCY DICTIONARY/COUNTER\n",
    "from cltk.utils.frequency import Frequency\n",
    "freq = Frequency()\n",
    "text_freq_counter = freq.counter_from_str(text_str)"
   ]
  },
  {
   "cell_type": "code",
   "execution_count": 9,
   "metadata": {},
   "outputs": [
    {
     "data": {
      "text/plain": [
       "[('αὐτός', 967),\n",
       " ('σύ', 845),\n",
       " ('εἰμί', 830),\n",
       " ('ἐγώ', 703),\n",
       " ('οὐ', 570),\n",
       " ('αὐτὸν', 222),\n",
       " ('θεάομαι', 221),\n",
       " ('τὰς', 195),\n",
       " ('θεὸς', 175),\n",
       " ('γαῖα', 162)]"
      ]
     },
     "execution_count": 9,
     "metadata": {},
     "output_type": "execute_result"
    }
   ],
   "source": [
    "text_freq_counter.most_common(10)"
   ]
  },
  {
   "cell_type": "code",
   "execution_count": 12,
   "metadata": {},
   "outputs": [
    {
     "data": {
      "text/plain": [
       "'\\n\\n\\n\\nDialogus cum Tryphone\\nJustinus Martyr\\nGeorges Archambault\\n\\n\\nTrustees of Tufts University\\nMedford'"
      ]
     },
     "execution_count": 12,
     "metadata": {},
     "output_type": "execute_result"
    }
   ],
   "source": [
    "text_raw[:100]"
   ]
  },
  {
   "cell_type": "code",
   "execution_count": null,
   "metadata": {
    "collapsed": true
   },
   "outputs": [],
   "source": [
    "# UPLOADING AND CLEANING\n",
    "from cltk.corpus.utils.formatter import tlg_plaintext_cleanup\n",
    "import os\n",
    "# Clement, Paedagogos\n",
    "text_file = os.path.expanduser('~//cltk_data/greek/text/greek_text_first1kgreek_plaintext/tlg0555.tlg002.txt')\n",
    "with open(text_file) as f:\n",
    "    text_raw = f.read()\n",
    "# text_cleaned = cleaned text:\n",
    "clem_cleaned = tlg_plaintext_cleanup(socrates_raw, rm_punctuation=True, rm_periods=True) [:]\n",
    "#  rm_periods=True returns no interpunction\n"
   ]
  },
  {
   "cell_type": "code",
   "execution_count": null,
   "metadata": {
    "collapsed": true
   },
   "outputs": [],
   "source": [
    "# LEMMATIZATION\n",
    "# does not work so good as I would like\n",
    "from cltk.stem.lemma import LemmaReplacer\n",
    "lemmatizer = LemmaReplacer('greek')\n",
    "just_lemmatized = lemmatizer.lemmatize(just_cleaned, return_string=True)\n",
    "clem_lemmatized = lemmatizer.lemmatize(clem_cleaned, return_string=True)"
   ]
  },
  {
   "cell_type": "code",
   "execution_count": null,
   "metadata": {},
   "outputs": [],
   "source": [
    "len(just_lemmatized)"
   ]
  },
  {
   "cell_type": "code",
   "execution_count": null,
   "metadata": {},
   "outputs": [],
   "source": [
    "len(clem_lemmatized)"
   ]
  },
  {
   "cell_type": "code",
   "execution_count": null,
   "metadata": {
    "collapsed": true
   },
   "outputs": [],
   "source": [
    "# STOPWORDS FILTERING\n",
    "from nltk.tokenize.punkt import PunktLanguageVars\n",
    "from cltk.stop.greek.stops import STOPS_LIST\n",
    "p = PunktLanguageVars()\n",
    "\n",
    "just_tokens = p.word_tokenize(just_lemmatized.lower())\n",
    "just_without_stopwords = [w for w in just_tokens if not w in STOPS_LIST]\n",
    "just_str = \" \".join(just_without_stopwords)\n",
    "\n",
    "clem_tokens = p.word_tokenize(clem_lemmatized.lower())\n",
    "clem_without_stopwords = [w for w in clem_tokens if not w in STOPS_LIST]\n",
    "clem_str = \" \".join(clem_without_stopwords)\n"
   ]
  },
  {
   "cell_type": "code",
   "execution_count": null,
   "metadata": {
    "collapsed": true
   },
   "outputs": [],
   "source": [
    "from cltk.utils.frequency import Frequency\n",
    "freq = Frequency()\n",
    "just_freq_counter = freq.counter_from_str(just_str)\n",
    "clem_freq_counter = freq.counter_from_str(clem_str)\n",
    "# now we have a counter collection\n",
    "# counters have some specific functions\n",
    "# like this one: freq_counter.most_common(30)\n",
    "# but in general they behave as dictionaries"
   ]
  },
  {
   "cell_type": "code",
   "execution_count": null,
   "metadata": {},
   "outputs": [],
   "source": [
    "len(just_freq_counter)"
   ]
  },
  {
   "cell_type": "code",
   "execution_count": null,
   "metadata": {},
   "outputs": [],
   "source": [
    "len(clem_freq_counter)"
   ]
  },
  {
   "cell_type": "code",
   "execution_count": null,
   "metadata": {},
   "outputs": [],
   "source": [
    "just_freq_counter.most_common(10)"
   ]
  },
  {
   "cell_type": "code",
   "execution_count": null,
   "metadata": {},
   "outputs": [],
   "source": [
    "clem_freq_counter.most_common(10)"
   ]
  },
  {
   "cell_type": "code",
   "execution_count": null,
   "metadata": {},
   "outputs": [],
   "source": [
    "# ANALYZING THE TEXT BY MEANS SKLEARN AND NUMPY\n",
    "import numpy as np\n",
    "from sklearn.feature_extraction.text import CountVectorizer\n",
    "\n",
    "texts = (sozomenus_str, socrates_str)\n",
    "vectorizer = CountVectorizer(texts)\n",
    "dtm = vectorizer.fit_transform(texts)\n",
    "vocab = vectorizer.get_feature_names()"
   ]
  },
  {
   "cell_type": "code",
   "execution_count": null,
   "metadata": {},
   "outputs": [],
   "source": [
    "dtm"
   ]
  },
  {
   "cell_type": "code",
   "execution_count": null,
   "metadata": {
    "collapsed": true
   },
   "outputs": [],
   "source": [
    "dtm = dtm.toarray()\n",
    "vocab = np.array(vocab)"
   ]
  },
  {
   "cell_type": "code",
   "execution_count": null,
   "metadata": {},
   "outputs": [],
   "source": [
    "from sklearn.metrics.pairwise import cosine_similarity\n",
    "dist = 1 - cosine_similarity(dtm)\n",
    "np.round(dist, 2)"
   ]
  },
  {
   "cell_type": "code",
   "execution_count": null,
   "metadata": {},
   "outputs": [],
   "source": [
    "import os\n",
    "import matplotlib.pyplot as plt\n",
    "from sklearn.manifold import MDS\n",
    "mds = MDS(n_components=2, dissimilarity=\"precomputed\", random_state=1)\n",
    "pos = mds.fit_transform(dist)\n",
    "\n",
    "xs, ys = pos[:, 0], pos[:, 1]\n",
    "\n",
    "for x, y in zip(xs, ys):\n",
    "    #color = 'orange' if \"socrates\" in text else 'skyblue'\n",
    "    plt.scatter(x, y)#, c=color) \n",
    "\n",
    "    \n"
   ]
  },
  {
   "cell_type": "code",
   "execution_count": null,
   "metadata": {},
   "outputs": [],
   "source": [
    "plt.show()"
   ]
  },
  {
   "cell_type": "code",
   "execution_count": null,
   "metadata": {
    "collapsed": true
   },
   "outputs": [],
   "source": []
  }
 ],
 "metadata": {
  "kernelspec": {
   "display_name": "Python 3",
   "language": "python",
   "name": "python3"
  },
  "language_info": {
   "codemirror_mode": {
    "name": "ipython",
    "version": 3
   },
   "file_extension": ".py",
   "mimetype": "text/x-python",
   "name": "python",
   "nbconvert_exporter": "python",
   "pygments_lexer": "ipython3",
   "version": "3.6.1"
  }
 },
 "nbformat": 4,
 "nbformat_minor": 2
}
